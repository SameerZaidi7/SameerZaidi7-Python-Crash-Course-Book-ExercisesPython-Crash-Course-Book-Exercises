{
 "cells": [
  {
   "cell_type": "code",
   "execution_count": 7,
   "id": "c0753ef0-829d-4d1f-92ce-dd30991c7b2c",
   "metadata": {},
   "outputs": [
    {
     "name": "stdout",
     "output_type": "stream",
     "text": [
      "Sameer here!\n"
     ]
    }
   ],
   "source": [
    "label = \"Sameer here!\"\n",
    "print(label)"
   ]
  },
  {
   "cell_type": "code",
   "execution_count": 8,
   "id": "9cfa3452-8f3c-44fb-8852-2afe1221a8bf",
   "metadata": {},
   "outputs": [
    {
     "name": "stdout",
     "output_type": "stream",
     "text": [
      "From karachi!\n"
     ]
    }
   ],
   "source": [
    "label = \"From karachi!\"\n",
    "print(label)"
   ]
  },
  {
   "cell_type": "code",
   "execution_count": 9,
   "id": "6131b976-c38d-4406-8601-31e53c207cae",
   "metadata": {},
   "outputs": [
    {
     "name": "stdout",
     "output_type": "stream",
     "text": [
      "From karachi!\n"
     ]
    }
   ],
   "source": [
    "print(label)"
   ]
  },
  {
   "cell_type": "code",
   "execution_count": 33,
   "id": "72e7ff47-fae9-4bdc-95b5-68eb089968d7",
   "metadata": {},
   "outputs": [
    {
     "ename": "SyntaxError",
     "evalue": "unexpected character after line continuation character (2448776781.py, line 1)",
     "output_type": "error",
     "traceback": [
      "\u001b[1;36m  Cell \u001b[1;32mIn[33], line 1\u001b[1;36m\u001b[0m\n\u001b[1;33m    print(label.title()\\t)\u001b[0m\n\u001b[1;37m                        ^\u001b[0m\n\u001b[1;31mSyntaxError\u001b[0m\u001b[1;31m:\u001b[0m unexpected character after line continuation character\n"
     ]
    }
   ],
   "source": [
    "print(label.title())"
   ]
  },
  {
   "cell_type": "code",
   "execution_count": 15,
   "id": "b40d72ea-8e12-4601-b247-ab686df60256",
   "metadata": {},
   "outputs": [
    {
     "name": "stdout",
     "output_type": "stream",
     "text": [
      "sameer zaidi\n"
     ]
    }
   ],
   "source": [
    "first_name = \"sameer\"\n",
    "last_name = \"zaidi\"\n",
    "full_name = f\"{first_name} {last_name}\"\n",
    "print(full_name)"
   ]
  },
  {
   "cell_type": "code",
   "execution_count": 21,
   "id": "6b3ff6f2-bd68-4093-a001-c0f67d4b42e2",
   "metadata": {},
   "outputs": [
    {
     "name": "stdout",
     "output_type": "stream",
     "text": [
      "Hello, sameer zaidi\n"
     ]
    }
   ],
   "source": [
    "first_name = \"sameer\"\n",
    "last_name = \"zaidi\"\n",
    "full_name = f\"{first_name} {last_name}\"\n",
    "print(f\"Hello, {full_name}\")"
   ]
  },
  {
   "cell_type": "code",
   "execution_count": 31,
   "id": "2ef23d5f-2e1a-4c8c-9ba4-43331c57d5fb",
   "metadata": {},
   "outputs": [
    {
     "name": "stdout",
     "output_type": "stream",
     "text": [
      "Hello, Sameer Zaidi\t\n"
     ]
    }
   ],
   "source": [
    "first_name = \"sameer\"\n",
    "last_name = \"zaidi\"\n",
    "full_name = f\"{first_name} {last_name}\"\n",
    "print(f\"Hello, {full_name.title()}\\t\")"
   ]
  },
  {
   "cell_type": "markdown",
   "id": "11c1c773-0cd4-4f9d-b50c-6442198aafec",
   "metadata": {},
   "source": [
    "#### whitespace"
   ]
  },
  {
   "cell_type": "code",
   "execution_count": 1,
   "id": "4d7f646a-3580-4d56-94b2-b012022dfae0",
   "metadata": {},
   "outputs": [
    {
     "name": "stdout",
     "output_type": "stream",
     "text": [
      "Python\n"
     ]
    }
   ],
   "source": [
    "print(\"Python\")"
   ]
  },
  {
   "cell_type": "code",
   "execution_count": 3,
   "id": "28c64b17-4314-443a-84e2-6c3364a595d8",
   "metadata": {},
   "outputs": [
    {
     "name": "stdout",
     "output_type": "stream",
     "text": [
      "\tpython\n"
     ]
    }
   ],
   "source": [
    "print(\"\\tpython\")"
   ]
  },
  {
   "cell_type": "raw",
   "id": "dccf85ba-5ab1-4815-a03a-f3d765730cf5",
   "metadata": {},
   "source": []
  },
  {
   "cell_type": "code",
   "execution_count": 5,
   "id": "e956bbc4-c093-43cb-a371-957ed7592779",
   "metadata": {},
   "outputs": [
    {
     "name": "stdout",
     "output_type": "stream",
     "text": [
      "name:\n",
      "Sameer\n",
      "last:\n",
      "zaidi\n"
     ]
    }
   ],
   "source": [
    "print(\"name:\\nSameer\\nlast:\\nzaidi\")"
   ]
  },
  {
   "cell_type": "code",
   "execution_count": 23,
   "id": "59543dac-5e90-4523-81a1-a03719694201",
   "metadata": {},
   "outputs": [
    {
     "name": "stdout",
     "output_type": "stream",
     "text": [
      "\tname:\n",
      "\tSameer\n",
      "\tlast:\n",
      "\tzaidi\n"
     ]
    }
   ],
   "source": [
    "print(\"\\tname:\\n\\tSameer\\n\\tlast:\\n\\tzaidi\") #we can combine \\t and \\n"
   ]
  },
  {
   "cell_type": "code",
   "execution_count": 27,
   "id": "98d9e414-d7a6-4d9b-9786-d484659c36d3",
   "metadata": {},
   "outputs": [
    {
     "name": "stdout",
     "output_type": "stream",
     "text": [
      "\t\tname:\n",
      "\tSameer\n",
      "\tlast:\n",
      "\tzaidi\n"
     ]
    }
   ],
   "source": [
    "print(\"\\t\\tname:\\n\\tSameer\\n\\tlast:\\n\\tzaidi\") # we can give gap number of time we want"
   ]
  },
  {
   "cell_type": "code",
   "execution_count": 29,
   "id": "81517ed6-975d-4e58-b3a2-68f95f8bf134",
   "metadata": {},
   "outputs": [
    {
     "name": "stdout",
     "output_type": "stream",
     "text": [
      "sameer      \n"
     ]
    }
   ],
   "source": [
    "name = \"sameer      \"\n",
    "print(name)"
   ]
  },
  {
   "cell_type": "code",
   "execution_count": 31,
   "id": "6f07e345-f9d3-4cb4-8c63-eacff6636682",
   "metadata": {},
   "outputs": [
    {
     "data": {
      "text/plain": [
       "'sameer      '"
      ]
     },
     "execution_count": 31,
     "metadata": {},
     "output_type": "execute_result"
    }
   ],
   "source": [
    "name"
   ]
  },
  {
   "cell_type": "code",
   "execution_count": 33,
   "id": "9850d1d7-e159-4a58-9023-12c2820d49f6",
   "metadata": {},
   "outputs": [
    {
     "data": {
      "text/plain": [
       "'sameer'"
      ]
     },
     "execution_count": 33,
     "metadata": {},
     "output_type": "execute_result"
    }
   ],
   "source": [
    "name.rstrip()"
   ]
  },
  {
   "cell_type": "code",
   "execution_count": 35,
   "id": "70c2b8ee-45d7-40ce-8ab6-898aabe79f9a",
   "metadata": {},
   "outputs": [],
   "source": [
    "name='                                              sameer'"
   ]
  },
  {
   "cell_type": "code",
   "execution_count": 37,
   "id": "d1430cf0-e1dd-4de5-b720-b1e925ab54f4",
   "metadata": {},
   "outputs": [
    {
     "data": {
      "text/plain": [
       "'                                              sameer'"
      ]
     },
     "execution_count": 37,
     "metadata": {},
     "output_type": "execute_result"
    }
   ],
   "source": [
    "name"
   ]
  },
  {
   "cell_type": "code",
   "execution_count": 39,
   "id": "0770bc4c-e9dd-4435-9854-afec9f093bba",
   "metadata": {},
   "outputs": [
    {
     "data": {
      "text/plain": [
       "'sameer'"
      ]
     },
     "execution_count": 39,
     "metadata": {},
     "output_type": "execute_result"
    }
   ],
   "source": [
    "name.lstrip()"
   ]
  },
  {
   "cell_type": "code",
   "execution_count": 41,
   "id": "0395c312-8ebb-43d5-a750-1b8fcb53154c",
   "metadata": {},
   "outputs": [
    {
     "data": {
      "text/plain": [
       "'                                              sameer'"
      ]
     },
     "execution_count": 41,
     "metadata": {},
     "output_type": "execute_result"
    }
   ],
   "source": [
    "name"
   ]
  },
  {
   "cell_type": "code",
   "execution_count": 43,
   "id": "17e1e6f8-02e6-4ede-8e0f-58640727e922",
   "metadata": {},
   "outputs": [],
   "source": [
    "# to completely store the value after strippig the spaces we need to store it in the variable\n",
    "name = name.lstrip()"
   ]
  },
  {
   "cell_type": "code",
   "execution_count": 45,
   "id": "89ab4b25-19f5-4f65-9b32-f848cc4a877a",
   "metadata": {},
   "outputs": [
    {
     "data": {
      "text/plain": [
       "'sameer'"
      ]
     },
     "execution_count": 45,
     "metadata": {},
     "output_type": "execute_result"
    }
   ],
   "source": [
    "name"
   ]
  },
  {
   "cell_type": "code",
   "execution_count": 47,
   "id": "55836f43-9c72-4cde-a834-3d13b5ee548a",
   "metadata": {},
   "outputs": [
    {
     "data": {
      "text/plain": [
       "'sameer'"
      ]
     },
     "execution_count": 47,
     "metadata": {},
     "output_type": "execute_result"
    }
   ],
   "source": [
    "name"
   ]
  },
  {
   "cell_type": "code",
   "execution_count": 49,
   "id": "743c3c23-14ee-4c52-a2b3-63818de765b2",
   "metadata": {},
   "outputs": [],
   "source": [
    "animal = '              cow            '\n"
   ]
  },
  {
   "cell_type": "code",
   "execution_count": 51,
   "id": "c6f6e625-cadd-4a5b-898d-ae6e5e82f74f",
   "metadata": {},
   "outputs": [
    {
     "data": {
      "text/plain": [
       "'              cow            '"
      ]
     },
     "execution_count": 51,
     "metadata": {},
     "output_type": "execute_result"
    }
   ],
   "source": [
    "animal"
   ]
  },
  {
   "cell_type": "code",
   "execution_count": 53,
   "id": "4cc8dc07-8069-4917-945f-4de417b8b58a",
   "metadata": {},
   "outputs": [],
   "source": [
    "animal = animal.strip()"
   ]
  },
  {
   "cell_type": "code",
   "execution_count": 55,
   "id": "79a870e0-65ff-4d9a-b383-a4ffb49c817c",
   "metadata": {},
   "outputs": [
    {
     "data": {
      "text/plain": [
       "'cow'"
      ]
     },
     "execution_count": 55,
     "metadata": {},
     "output_type": "execute_result"
    }
   ],
   "source": [
    "animal"
   ]
  },
  {
   "cell_type": "markdown",
   "id": "2bab913e-eb37-4719-97c3-00e92ef438cc",
   "metadata": {},
   "source": [
    "#### Book Exercise"
   ]
  },
  {
   "cell_type": "code",
   "execution_count": 66,
   "id": "bf45ca4b-c3e7-4e94-a451-0097f94193fe",
   "metadata": {},
   "outputs": [
    {
     "name": "stdout",
     "output_type": "stream",
     "text": [
      "Hello, Ali could you please teach us something?\n"
     ]
    }
   ],
   "source": [
    "name = \"Ali\"\n",
    "print(f\"Hello, {name} could you please teach us something?\")"
   ]
  },
  {
   "cell_type": "code",
   "execution_count": 72,
   "id": "e13efdab-9ce4-4740-9fa2-658996ec15fb",
   "metadata": {},
   "outputs": [
    {
     "name": "stdout",
     "output_type": "stream",
     "text": [
      "hussain\n"
     ]
    }
   ],
   "source": [
    "name = \"Hussain\"\n",
    "print(name.lower())"
   ]
  },
  {
   "cell_type": "code",
   "execution_count": 74,
   "id": "af25ac90-cae8-46e2-a8f9-00f33f94e2b5",
   "metadata": {},
   "outputs": [
    {
     "name": "stdout",
     "output_type": "stream",
     "text": [
      "HUSSAIN\n"
     ]
    }
   ],
   "source": [
    "name = \"Hussain\"\n",
    "print(name.upper())"
   ]
  },
  {
   "cell_type": "code",
   "execution_count": 78,
   "id": "82c29468-8e2d-4692-a3a4-2ea2b2552b05",
   "metadata": {},
   "outputs": [
    {
     "name": "stdout",
     "output_type": "stream",
     "text": [
      "Imam Hussain\n"
     ]
    }
   ],
   "source": [
    "name = \"imam hussain\"\n",
    "print(name.title())"
   ]
  },
  {
   "cell_type": "code",
   "execution_count": 80,
   "id": "907cee88-7eb0-400a-8dc4-f9d8491e06c0",
   "metadata": {},
   "outputs": [
    {
     "name": "stdout",
     "output_type": "stream",
     "text": [
      "Albert Einstien once said, \"A Person Who Never Made A Mistake Never Tried Anything New\"\n"
     ]
    }
   ],
   "source": [
    "Einstien_quote = '\"A Person Who Never Made A Mistake Never Tried Anything New\"'\n",
    "print(f\"Albert Einstien once said, {Einstien_quote}\")"
   ]
  },
  {
   "cell_type": "code",
   "execution_count": 84,
   "id": "6c72a2eb-90c8-4d6c-8ed8-61d332f09716",
   "metadata": {},
   "outputs": [
    {
     "name": "stdout",
     "output_type": "stream",
     "text": [
      "Albert Einstien once said: \n",
      "\"A Person Who Never Made A Mistake Never Tried Anything New\"\n"
     ]
    }
   ],
   "source": [
    "Einstien_quote = '\"A Person Who Never Made A Mistake Never Tried Anything New\"'\n",
    "print(f\"Albert Einstien once said: \\n{Einstien_quote}\")"
   ]
  },
  {
   "cell_type": "markdown",
   "id": "e11bac25-f760-4a32-8276-99eb34595b96",
   "metadata": {},
   "source": [
    "### Numbers"
   ]
  },
  {
   "cell_type": "code",
   "execution_count": 86,
   "id": "94bb82a2-3d5a-4243-a720-0af6d3e132e5",
   "metadata": {},
   "outputs": [
    {
     "data": {
      "text/plain": [
       "5"
      ]
     },
     "execution_count": 86,
     "metadata": {},
     "output_type": "execute_result"
    }
   ],
   "source": [
    "2+3"
   ]
  },
  {
   "cell_type": "code",
   "execution_count": 88,
   "id": "e49c1499-16f9-4384-bcbb-345f44a4b273",
   "metadata": {},
   "outputs": [
    {
     "data": {
      "text/plain": [
       "125"
      ]
     },
     "execution_count": 88,
     "metadata": {},
     "output_type": "execute_result"
    }
   ],
   "source": [
    "5*5*5"
   ]
  },
  {
   "cell_type": "code",
   "execution_count": 1,
   "id": "4c7ede82-53df-4f1a-9691-8aa1daeae91a",
   "metadata": {},
   "outputs": [
    {
     "data": {
      "text/plain": [
       "26"
      ]
     },
     "execution_count": 1,
     "metadata": {},
     "output_type": "execute_result"
    }
   ],
   "source": [
    "(5**2) + 1\n"
   ]
  },
  {
   "cell_type": "code",
   "execution_count": 3,
   "id": "f3c6c812-9f12-4b5c-89e4-fc6b4f2847d8",
   "metadata": {},
   "outputs": [
    {
     "name": "stdout",
     "output_type": "stream",
     "text": [
      "8\n"
     ]
    }
   ],
   "source": [
    "print(5+3)"
   ]
  },
  {
   "cell_type": "code",
   "execution_count": 5,
   "id": "b907932b-9fc5-4304-bbb1-a5a72f18cbea",
   "metadata": {},
   "outputs": [
    {
     "name": "stdout",
     "output_type": "stream",
     "text": [
      "8\n"
     ]
    }
   ],
   "source": [
    "print(4*2)"
   ]
  },
  {
   "cell_type": "code",
   "execution_count": 9,
   "id": "67fbe148-8b49-484c-80a2-e74f42b023a6",
   "metadata": {},
   "outputs": [
    {
     "name": "stdout",
     "output_type": "stream",
     "text": [
      "8\n"
     ]
    }
   ],
   "source": [
    "print(9-1)"
   ]
  },
  {
   "cell_type": "code",
   "execution_count": 11,
   "id": "19c3d52b-e937-44e2-90ce-5a0721902d5f",
   "metadata": {},
   "outputs": [
    {
     "name": "stdout",
     "output_type": "stream",
     "text": [
      "8.0\n"
     ]
    }
   ],
   "source": [
    "print(16/2)"
   ]
  },
  {
   "cell_type": "code",
   "execution_count": 15,
   "id": "1a4cd28a-e495-4c5f-9f9b-e67a42acb9cb",
   "metadata": {},
   "outputs": [
    {
     "name": "stdout",
     "output_type": "stream",
     "text": [
      "My fav number for some reasons is 14\n"
     ]
    }
   ],
   "source": [
    "fav_variable = 14\n",
    "print(f\"My fav number for some reasons is {fav_variable}\") # i was asked to write your fav number and then show it through a statement"
   ]
  },
  {
   "cell_type": "markdown",
   "id": "0684e819-aa0b-492d-ada8-c52d79dc7c06",
   "metadata": {},
   "source": [
    "### Zen of python, a guide to write good piece of codes"
   ]
  },
  {
   "cell_type": "code",
   "execution_count": 3,
   "id": "56c91fcd-606f-48e7-97fa-70450c399222",
   "metadata": {},
   "outputs": [
    {
     "name": "stdout",
     "output_type": "stream",
     "text": [
      "The Zen of Python, by Tim Peters\n",
      "\n",
      "Beautiful is better than ugly.\n",
      "Explicit is better than implicit.\n",
      "Simple is better than complex.\n",
      "Complex is better than complicated.\n",
      "Flat is better than nested.\n",
      "Sparse is better than dense.\n",
      "Readability counts.\n",
      "Special cases aren't special enough to break the rules.\n",
      "Although practicality beats purity.\n",
      "Errors should never pass silently.\n",
      "Unless explicitly silenced.\n",
      "In the face of ambiguity, refuse the temptation to guess.\n",
      "There should be one-- and preferably only one --obvious way to do it.\n",
      "Although that way may not be obvious at first unless you're Dutch.\n",
      "Now is better than never.\n",
      "Although never is often better than *right* now.\n",
      "If the implementation is hard to explain, it's a bad idea.\n",
      "If the implementation is easy to explain, it may be a good idea.\n",
      "Namespaces are one honking great idea -- let's do more of those!\n"
     ]
    }
   ],
   "source": [
    "import this"
   ]
  },
  {
   "cell_type": "markdown",
   "id": "d9dc661e-c18a-4729-9604-c4af1d505988",
   "metadata": {},
   "source": [
    "### List"
   ]
  },
  {
   "cell_type": "code",
   "execution_count": 6,
   "id": "2e6141f9-0989-4bd4-b01b-c7908610d8e8",
   "metadata": {},
   "outputs": [
    {
     "name": "stdout",
     "output_type": "stream",
     "text": [
      "Melbourne\n"
     ]
    }
   ],
   "source": [
    "places = ['Melbourne', 'Sydney', 'Berlin', 'Scotland', 'Edinburgh', 'oxford', 'cambridge', 'norway']\n",
    "print(places[0])"
   ]
  },
  {
   "cell_type": "code",
   "execution_count": 8,
   "id": "4cd85281-710e-42d6-a935-733b845db226",
   "metadata": {},
   "outputs": [
    {
     "name": "stdout",
     "output_type": "stream",
     "text": [
      "norway\n"
     ]
    }
   ],
   "source": [
    "print(places[-1])  # -1 shows the last element of the list"
   ]
  },
  {
   "cell_type": "code",
   "execution_count": 10,
   "id": "2af14302-52cb-4ee1-a664-54ab93993d8f",
   "metadata": {},
   "outputs": [
    {
     "name": "stdout",
     "output_type": "stream",
     "text": [
      "The city i would like to go for work is Melbourne and after that the place i want to visit with my family is Scotland and lastly i want to visit, norway to watch northern lights and finally cambridge since thats where my education is based\n"
     ]
    }
   ],
   "source": [
    "print(f\"The city i would like to go for work is {places[0]} and after that the place i want to visit with my family is {places[3]} and lastly i want to visit, {places[-1]} to watch northern lights and finally {places[-2]} since thats where my education is based\")"
   ]
  },
  {
   "cell_type": "code",
   "execution_count": 12,
   "id": "dc22798e-4852-4532-b61f-f262f57ba48f",
   "metadata": {},
   "outputs": [],
   "source": [
    "# in above line of code i basically used list to store my fav cities and then i accessed them and used the f strings to write a message"
   ]
  },
  {
   "cell_type": "code",
   "execution_count": 14,
   "id": "1a33ce26-b25f-46e9-8f9f-b26120473813",
   "metadata": {},
   "outputs": [],
   "source": [
    "friends = ['ali', 'rameel', 'usman', 'ebad', 'abdullah', 'hasan']\n",
    "email = (f\"hello, {friends[0]}, hope u have met {friends[-1]}, and {friends[-3]} got to know {friends[-2]} very well after this meeting.\")"
   ]
  },
  {
   "cell_type": "code",
   "execution_count": 15,
   "id": "1f446998-e877-4729-8ee0-8f5db2a3869d",
   "metadata": {},
   "outputs": [
    {
     "name": "stdout",
     "output_type": "stream",
     "text": [
      "hello, ali, hope u have met hasan, and ebad got to know abdullah very well after this meeting.\n"
     ]
    }
   ],
   "source": [
    "print(email) # here i simply accessed the list elements and have attached a msg but this time i store the message in a varibale called email"
   ]
  },
  {
   "cell_type": "code",
   "execution_count": 16,
   "id": "db6fc82c-de06-4cd0-a16c-16eba684f5d2",
   "metadata": {},
   "outputs": [],
   "source": [
    "friends = ['ali', 'rameel', 'usman', 'ebad', 'abdullah', 'hasan']\n",
    "email = (f\"hello, {friends[0].title()}, hope u have met {friends[-1].title()}, and {friends[-3].title()} got to know {friends[-2].title()} very well after this meeting.\")"
   ]
  },
  {
   "cell_type": "code",
   "execution_count": 17,
   "id": "0907b5e1-50a7-49a7-b0b3-5cdd8953fc94",
   "metadata": {},
   "outputs": [
    {
     "name": "stdout",
     "output_type": "stream",
     "text": [
      "hello, Ali, hope u have met Hasan, and Ebad got to know Abdullah very well after this meeting.\n"
     ]
    }
   ],
   "source": [
    "print(email) # here i used the title method to capitalize each first letter of the person name"
   ]
  },
  {
   "cell_type": "markdown",
   "id": "72388150-012c-4068-8182-fbd03a62e1b1",
   "metadata": {},
   "source": [
    "#### Pop, del, remove"
   ]
  },
  {
   "cell_type": "code",
   "execution_count": 19,
   "id": "00c1b860-5b02-4909-8476-98b07007ebd1",
   "metadata": {},
   "outputs": [
    {
     "name": "stdout",
     "output_type": "stream",
     "text": [
      "Dear Kausar since you do the most of the hardwork you are especially invited to the dinner, Dear Mustahsan how can we forget you, you are must to be in the dinner event, hello Ghazi apko bhe ana hai hamari dinner event pay! Aur Mahnoor Kinza Sameer ap logon ko bhe lazmi ana hai, we will be waiting for the entire zaidi family at the event. \n"
     ]
    }
   ],
   "source": [
    "guests = ['Kausar', 'Mustahsan', 'Ghazi', 'Mahnoor', 'Kinza','Sameer']\n",
    "print(f\"Dear {guests[0].title()} since you do the most of the hardwork you are especially invited to the dinner, Dear {guests[1].title()} how can we forget you, you are must to be in the dinner event, hello {guests[2].title()} apko bhe ana hai hamari dinner event pay! Aur {guests[3].title()} {guests[4].title()} {guests[5].title()} ap logon ko bhe lazmi ana hai, we will be waiting for the entire zaidi family at the event. \")"
   ]
  },
  {
   "cell_type": "markdown",
   "id": "2da09d8f-96bf-498e-a188-263c7659adbc",
   "metadata": {},
   "source": [
    "#### another exercise\n"
   ]
  },
  {
   "cell_type": "code",
   "execution_count": 144,
   "id": "f7b3110c-bada-47c5-8d89-fdfc171e1ffd",
   "metadata": {},
   "outputs": [
    {
     "name": "stdout",
     "output_type": "stream",
     "text": [
      "We just got a call from Ahmed that he cant make it to iftar party sadly\n"
     ]
    }
   ],
   "source": [
    "iftar_guests = ['Bilal', 'Ebad', 'Talha', 'Asher', 'Ahmed']\n",
    "print(f\"We just got a call from {iftar_guests[-1]} that he cant make it to iftar party sadly\")"
   ]
  },
  {
   "cell_type": "code",
   "execution_count": 146,
   "id": "93b0d4fa-f038-43e3-aae7-c681abdfac8c",
   "metadata": {},
   "outputs": [],
   "source": [
    "iftar_guests[-1] = 'Abdul' \n",
    "# since ahmed is not coming we are replacing him with abdul"
   ]
  },
  {
   "cell_type": "code",
   "execution_count": 148,
   "id": "57cab2b9-dd6e-4eed-a667-4e9170dfbc45",
   "metadata": {},
   "outputs": [
    {
     "name": "stdout",
     "output_type": "stream",
     "text": [
      "Since now everybody has confirmed that they are coming here is the final list of the of the people coming to iftar party ['Bilal', 'Ebad', 'Talha', 'Asher', 'Abdul']\n"
     ]
    }
   ],
   "source": [
    "print(f\"Since now everybody has confirmed that they are coming here is the final list of the of the people coming to iftar party {iftar_guests}\")"
   ]
  },
  {
   "cell_type": "code",
   "execution_count": 150,
   "id": "858aff1a-b5fc-4716-9ce6-9c6232c4b4bf",
   "metadata": {},
   "outputs": [],
   "source": [
    "# we just noticed that we have more capacity to accomodate 3 more people in the iftar party hence we are adding 3 more new people to our guest list\n",
    "iftar_guests.insert(0, 'sameer') # first through insert method"
   ]
  },
  {
   "cell_type": "code",
   "execution_count": 152,
   "id": "ebfed9ff-cce6-4fce-8e75-7f132aae2c82",
   "metadata": {},
   "outputs": [
    {
     "ename": "AttributeError",
     "evalue": "'list' object has no attribute 'median'",
     "output_type": "error",
     "traceback": [
      "\u001b[1;31m---------------------------------------------------------------------------\u001b[0m",
      "\u001b[1;31mAttributeError\u001b[0m                            Traceback (most recent call last)",
      "Cell \u001b[1;32mIn[152], line 1\u001b[0m\n\u001b[1;32m----> 1\u001b[0m iftar_guests\u001b[38;5;241m.\u001b[39mmedian()\n",
      "\u001b[1;31mAttributeError\u001b[0m: 'list' object has no attribute 'median'"
     ]
    }
   ],
   "source": [
    "iftar_guests.median() #the query was to add a new memb inn the mid so i tried it but failed, guess will learn inn later chapters how to do it "
   ]
  },
  {
   "cell_type": "code",
   "execution_count": 154,
   "id": "1eb3c94a-dc4b-4e90-aed7-08ec66e38a88",
   "metadata": {},
   "outputs": [
    {
     "data": {
      "text/plain": [
       "['sameer', 'Bilal', 'Ebad', 'Talha', 'Asher', 'Abdul']"
      ]
     },
     "execution_count": 154,
     "metadata": {},
     "output_type": "execute_result"
    }
   ],
   "source": [
    "iftar_guests #somehow 2 sameer so lets del one"
   ]
  },
  {
   "cell_type": "code",
   "execution_count": 156,
   "id": "85c5ebd9-cd62-44b2-87be-51e4ecfe099d",
   "metadata": {},
   "outputs": [],
   "source": [
    "del iftar_guests[0]"
   ]
  },
  {
   "cell_type": "code",
   "execution_count": 158,
   "id": "a94c7034-c60d-4e39-aca9-48ffacbaf38b",
   "metadata": {},
   "outputs": [
    {
     "data": {
      "text/plain": [
       "['Bilal', 'Ebad', 'Talha', 'Asher', 'Abdul']"
      ]
     },
     "execution_count": 158,
     "metadata": {},
     "output_type": "execute_result"
    }
   ],
   "source": [
    "iftar_guests"
   ]
  },
  {
   "cell_type": "code",
   "execution_count": 160,
   "id": "aa608bac-9492-485e-b744-5e14827221d0",
   "metadata": {},
   "outputs": [],
   "source": [
    "# now we will find the mid value and add one more guest"
   ]
  },
  {
   "cell_type": "code",
   "execution_count": 162,
   "id": "1b92bc28-3684-40f3-acb5-9ec0d3b3411d",
   "metadata": {},
   "outputs": [],
   "source": [
    "iftar_guests.insert(3, 'Raheem')"
   ]
  },
  {
   "cell_type": "code",
   "execution_count": 164,
   "id": "faca705c-8c5f-49c6-919e-0a3a4154850a",
   "metadata": {},
   "outputs": [
    {
     "data": {
      "text/plain": [
       "['Bilal', 'Ebad', 'Talha', 'Raheem', 'Asher', 'Abdul']"
      ]
     },
     "execution_count": 164,
     "metadata": {},
     "output_type": "execute_result"
    }
   ],
   "source": [
    "iftar_guests"
   ]
  },
  {
   "cell_type": "code",
   "execution_count": 166,
   "id": "6552ad0c-c3a9-477f-aea8-83b7645544ee",
   "metadata": {},
   "outputs": [],
   "source": [
    "iftar_guests.append('Atif')"
   ]
  },
  {
   "cell_type": "code",
   "execution_count": 168,
   "id": "16ccb2d5-6c6f-474f-87be-eed4ea585224",
   "metadata": {},
   "outputs": [
    {
     "data": {
      "text/plain": [
       "['Bilal', 'Ebad', 'Talha', 'Raheem', 'Asher', 'Abdul', 'Atif']"
      ]
     },
     "execution_count": 168,
     "metadata": {},
     "output_type": "execute_result"
    }
   ],
   "source": [
    "iftar_guests"
   ]
  },
  {
   "cell_type": "code",
   "execution_count": 170,
   "id": "f75af1e9-a341-4e94-b562-f8667a7cc2b5",
   "metadata": {},
   "outputs": [
    {
     "name": "stdout",
     "output_type": "stream",
     "text": [
      "updated guest list for todays iftar party ['Bilal', 'Ebad', 'Talha', 'Raheem', 'Asher', 'Abdul', 'Atif']\n"
     ]
    }
   ],
   "source": [
    "print(f\"updated guest list for todays iftar party {iftar_guests}\")"
   ]
  },
  {
   "cell_type": "markdown",
   "id": "091e171b-0e27-4a1d-a999-500a61cdbe9f",
   "metadata": {},
   "source": [
    "#### Shrinking Guest List"
   ]
  },
  {
   "cell_type": "code",
   "execution_count": 172,
   "id": "0730ffb9-44bd-4c9e-b3f8-8e1185e88a0f",
   "metadata": {},
   "outputs": [],
   "source": [
    "removed_person1 = iftar_guests.pop()"
   ]
  },
  {
   "cell_type": "code",
   "execution_count": 174,
   "id": "0f68ff2b-eaa2-4656-9bf0-119e707353ea",
   "metadata": {},
   "outputs": [
    {
     "name": "stdout",
     "output_type": "stream",
     "text": [
      "Sorry Atif please stay home since our table got full\n"
     ]
    }
   ],
   "source": [
    "print(f\"Sorry {removed_person1.title()} please stay home since our table got full\")"
   ]
  },
  {
   "cell_type": "code",
   "execution_count": 176,
   "id": "e7e83a64-46a3-47b5-a5b3-e84707129f19",
   "metadata": {},
   "outputs": [],
   "source": [
    "removed_person2 = iftar_guests.pop()"
   ]
  },
  {
   "cell_type": "code",
   "execution_count": 178,
   "id": "2fae99f7-b637-4dd5-aa88-a5b293e69460",
   "metadata": {},
   "outputs": [
    {
     "name": "stdout",
     "output_type": "stream",
     "text": [
      "Sorry Abdul please stay home since our table got full\n"
     ]
    }
   ],
   "source": [
    "print(f\"Sorry {removed_person2.title()} please stay home since our table got full\")"
   ]
  },
  {
   "cell_type": "code",
   "execution_count": 180,
   "id": "759e6323-5e79-4cd9-bc18-7b7dd6170a73",
   "metadata": {},
   "outputs": [],
   "source": [
    "removed_person3 = iftar_guests.pop()"
   ]
  },
  {
   "cell_type": "code",
   "execution_count": 182,
   "id": "2a18dcf6-3195-4993-b778-24da13a81c39",
   "metadata": {},
   "outputs": [
    {
     "name": "stdout",
     "output_type": "stream",
     "text": [
      "Sorry Asher please stay home since our table got full\n"
     ]
    }
   ],
   "source": [
    "print(f\"Sorry {removed_person3.title()} please stay home since our table got full\")"
   ]
  },
  {
   "cell_type": "code",
   "execution_count": 184,
   "id": "908a9014-538d-4b88-b9d3-adfbf2b58aa3",
   "metadata": {},
   "outputs": [
    {
     "data": {
      "text/plain": [
       "['Bilal', 'Ebad', 'Talha', 'Raheem']"
      ]
     },
     "execution_count": 184,
     "metadata": {},
     "output_type": "execute_result"
    }
   ],
   "source": [
    "iftar_guests"
   ]
  },
  {
   "cell_type": "code",
   "execution_count": 186,
   "id": "70050c7e-b296-4b65-81f8-d61431327870",
   "metadata": {},
   "outputs": [
    {
     "name": "stdout",
     "output_type": "stream",
     "text": [
      "since rest of them couldn't be invited Mr <built-in method title of str object at 0x00000252F28B9140> & <built-in method title of str object at 0x00000252F30FFE10> are still invited please join us\n"
     ]
    }
   ],
   "source": [
    "print(f\"since rest of them couldn't be invited Mr {iftar_guests[0].title} & {iftar_guests[1].title} are still invited please join us\" ) "
   ]
  },
  {
   "cell_type": "code",
   "execution_count": 188,
   "id": "1a93d487-5f70-44b2-862a-6bf68de1f817",
   "metadata": {},
   "outputs": [],
   "source": [
    "# the above error is cause i didnt use parenthesis after title ()"
   ]
  },
  {
   "cell_type": "code",
   "execution_count": 190,
   "id": "ae268414-d353-48a7-af44-8cf9b4f19516",
   "metadata": {},
   "outputs": [
    {
     "name": "stdout",
     "output_type": "stream",
     "text": [
      "since rest of them couldn't be invited Mr Bilal & Ebad are still invited please join us!\n"
     ]
    }
   ],
   "source": [
    "print(f\"since rest of them couldn't be invited Mr {iftar_guests[0].title()} & {iftar_guests[1].title()} are still invited please join us!\" ) "
   ]
  },
  {
   "cell_type": "code",
   "execution_count": 192,
   "id": "c86c1b86-0d48-4e7f-9b85-ea04f6ea1894",
   "metadata": {},
   "outputs": [],
   "source": [
    "del iftar_guests[0]"
   ]
  },
  {
   "cell_type": "code",
   "execution_count": 194,
   "id": "7e752307-ac12-4840-b22f-01748097cbf6",
   "metadata": {},
   "outputs": [
    {
     "data": {
      "text/plain": [
       "['Ebad', 'Talha', 'Raheem']"
      ]
     },
     "execution_count": 194,
     "metadata": {},
     "output_type": "execute_result"
    }
   ],
   "source": [
    "iftar_guests"
   ]
  },
  {
   "cell_type": "code",
   "execution_count": 196,
   "id": "9c8ed427-bb9a-4161-966b-8f2e0da5787d",
   "metadata": {},
   "outputs": [
    {
     "data": {
      "text/plain": [
       "['Ebad', 'Talha', 'Raheem']"
      ]
     },
     "execution_count": 196,
     "metadata": {},
     "output_type": "execute_result"
    }
   ],
   "source": [
    "iftar_guests"
   ]
  },
  {
   "cell_type": "code",
   "execution_count": 198,
   "id": "eb762a8b-cfbf-4b38-bb87-6fb8e0fd6737",
   "metadata": {},
   "outputs": [],
   "source": [
    "del iftar_guests[0]"
   ]
  },
  {
   "cell_type": "code",
   "execution_count": 200,
   "id": "f4a5630f-cb27-4785-8be7-17d8736a56c8",
   "metadata": {},
   "outputs": [
    {
     "data": {
      "text/plain": [
       "['Talha', 'Raheem']"
      ]
     },
     "execution_count": 200,
     "metadata": {},
     "output_type": "execute_result"
    }
   ],
   "source": [
    "iftar_guests"
   ]
  },
  {
   "cell_type": "code",
   "execution_count": 202,
   "id": "291faa7a-f660-4dd8-8230-3cf0445b4c28",
   "metadata": {},
   "outputs": [],
   "source": [
    "del iftar_guests[0]"
   ]
  },
  {
   "cell_type": "code",
   "execution_count": 204,
   "id": "00961c7f-c020-4c81-bcf4-eed1c5bb9d01",
   "metadata": {},
   "outputs": [
    {
     "data": {
      "text/plain": [
       "['Raheem']"
      ]
     },
     "execution_count": 204,
     "metadata": {},
     "output_type": "execute_result"
    }
   ],
   "source": [
    "iftar_guests"
   ]
  },
  {
   "cell_type": "code",
   "execution_count": 206,
   "id": "5c964da5-efe9-4f6a-82a3-a5f4704937b7",
   "metadata": {},
   "outputs": [],
   "source": [
    "del iftar_guests[0]"
   ]
  },
  {
   "cell_type": "code",
   "execution_count": 208,
   "id": "e199a29c-c0a5-431f-a920-0d3fbbc6b4f7",
   "metadata": {},
   "outputs": [
    {
     "data": {
      "text/plain": [
       "[]"
      ]
     },
     "execution_count": 208,
     "metadata": {},
     "output_type": "execute_result"
    }
   ],
   "source": [
    "iftar_guests # task was to show an empty list"
   ]
  },
  {
   "cell_type": "markdown",
   "id": "e4482088-2eb6-4fbf-85f0-f6d3fd0a1b61",
   "metadata": {},
   "source": [
    "### Sorting"
   ]
  },
  {
   "cell_type": "code",
   "execution_count": 214,
   "id": "0a8a564b-7998-439a-b35f-c035d3597b9f",
   "metadata": {},
   "outputs": [],
   "source": [
    "cars1 = ['Audi', 'Merc', 'Bmw', 'Tesla', 'Toyota']"
   ]
  },
  {
   "cell_type": "code",
   "execution_count": 220,
   "id": "5b02406e-0477-4764-ab1c-ad8f2e559159",
   "metadata": {},
   "outputs": [],
   "source": [
    "cars1.sort() # it has sorted in an alphabetical order"
   ]
  },
  {
   "cell_type": "code",
   "execution_count": 222,
   "id": "3c05ea39-31e1-4dc4-a0df-d0b05e8c5b28",
   "metadata": {},
   "outputs": [
    {
     "data": {
      "text/plain": [
       "['Audi', 'Bmw', 'Merc', 'Tesla', 'Toyota']"
      ]
     },
     "execution_count": 222,
     "metadata": {},
     "output_type": "execute_result"
    }
   ],
   "source": [
    "cars1"
   ]
  },
  {
   "cell_type": "code",
   "execution_count": 224,
   "id": "130ad522-36e8-4b70-9e76-f325216207ce",
   "metadata": {},
   "outputs": [],
   "source": [
    "# lets try to reverse it\n",
    "cars1.sort(reverse=True) "
   ]
  },
  {
   "cell_type": "code",
   "execution_count": 228,
   "id": "36398dd5-1aa2-4b40-a986-235dbf37a6d8",
   "metadata": {},
   "outputs": [
    {
     "data": {
      "text/plain": [
       "['Toyota', 'Tesla', 'Merc', 'Bmw', 'Audi']"
      ]
     },
     "execution_count": 228,
     "metadata": {},
     "output_type": "execute_result"
    }
   ],
   "source": [
    "cars1 # it has indeed"
   ]
  },
  {
   "cell_type": "code",
   "execution_count": 232,
   "id": "8d8e2305-7b2e-41f7-a8f9-40bd15253846",
   "metadata": {},
   "outputs": [],
   "source": [
    "# Since these changes permanently changes the order there is an alternate way to sort them without permanently changing the order"
   ]
  },
  {
   "cell_type": "markdown",
   "id": "35be3db7-f632-4cfb-bde2-8300c766deb7",
   "metadata": {},
   "source": [
    "### Sorted()"
   ]
  },
  {
   "cell_type": "code",
   "execution_count": 235,
   "id": "cd55744d-8f46-4355-9c22-40d503ef013c",
   "metadata": {},
   "outputs": [],
   "source": [
    "fruits = ['Apple', 'banana', 'pineapple', 'orange', 'cucumber']"
   ]
  },
  {
   "cell_type": "code",
   "execution_count": 237,
   "id": "7fed0447-6738-4307-85fc-940a70a906de",
   "metadata": {},
   "outputs": [
    {
     "ename": "AttributeError",
     "evalue": "'list' object has no attribute 'sorted'",
     "output_type": "error",
     "traceback": [
      "\u001b[1;31m---------------------------------------------------------------------------\u001b[0m",
      "\u001b[1;31mAttributeError\u001b[0m                            Traceback (most recent call last)",
      "Cell \u001b[1;32mIn[237], line 1\u001b[0m\n\u001b[1;32m----> 1\u001b[0m fruits\u001b[38;5;241m.\u001b[39msorted()\n",
      "\u001b[1;31mAttributeError\u001b[0m: 'list' object has no attribute 'sorted'"
     ]
    }
   ],
   "source": [
    "fruits.sorted()"
   ]
  },
  {
   "cell_type": "code",
   "execution_count": 239,
   "id": "9b4934cf-5602-47a5-8e6d-b507c18e0a33",
   "metadata": {},
   "outputs": [],
   "source": [
    "sorted_fruits = sorted(fruits)"
   ]
  },
  {
   "cell_type": "code",
   "execution_count": 241,
   "id": "c00b79db-8afb-4fe6-a3c0-43beb0f95099",
   "metadata": {},
   "outputs": [
    {
     "data": {
      "text/plain": [
       "['Apple', 'banana', 'cucumber', 'orange', 'pineapple']"
      ]
     },
     "execution_count": 241,
     "metadata": {},
     "output_type": "execute_result"
    }
   ],
   "source": [
    "sorted_fruits"
   ]
  },
  {
   "cell_type": "code",
   "execution_count": 245,
   "id": "584bc801-79fd-4dc4-8c3f-e39a4be04400",
   "metadata": {},
   "outputs": [
    {
     "data": {
      "text/plain": [
       "['Apple', 'banana', 'pineapple', 'orange', 'cucumber']"
      ]
     },
     "execution_count": 245,
     "metadata": {},
     "output_type": "execute_result"
    }
   ],
   "source": [
    "fruits # here u can see there is no alphabehtical order followed"
   ]
  },
  {
   "cell_type": "code",
   "execution_count": 249,
   "id": "0d006c63-1021-4f69-b06e-760f6a5e8e99",
   "metadata": {},
   "outputs": [],
   "source": [
    "fruits.reverse()"
   ]
  },
  {
   "cell_type": "raw",
   "id": "432c6618-dab7-443a-97a4-38897cb28c98",
   "metadata": {},
   "source": [
    "fruits"
   ]
  },
  {
   "cell_type": "code",
   "execution_count": null,
   "id": "40232235-1a93-4738-8bab-9480eee89c03",
   "metadata": {},
   "outputs": [],
   "source": []
  },
  {
   "cell_type": "code",
   "execution_count": 252,
   "id": "fae891d6-5562-4583-8cc5-5713dffac1f5",
   "metadata": {},
   "outputs": [
    {
     "data": {
      "text/plain": [
       "['Apple', 'banana', 'pineapple', 'orange', 'cucumber']"
      ]
     },
     "execution_count": 252,
     "metadata": {},
     "output_type": "execute_result"
    }
   ],
   "source": [
    "fruits"
   ]
  },
  {
   "cell_type": "code",
   "execution_count": 256,
   "id": "c54bfe39-c330-4d6c-99b3-26f7426907f5",
   "metadata": {},
   "outputs": [],
   "source": [
    "fruits.reverse()"
   ]
  },
  {
   "cell_type": "code",
   "execution_count": 260,
   "id": "5d63e7c9-c546-4f9f-8d89-7033c86010cc",
   "metadata": {},
   "outputs": [
    {
     "name": "stdout",
     "output_type": "stream",
     "text": [
      "['Apple', 'banana', 'pineapple', 'orange', 'cucumber']\n"
     ]
    }
   ],
   "source": [
    "print(fruits)"
   ]
  },
  {
   "cell_type": "markdown",
   "id": "fea8f2cf-0211-4476-af92-9396934b2141",
   "metadata": {},
   "source": [
    "#### Reversing the order of the list"
   ]
  },
  {
   "cell_type": "code",
   "execution_count": 263,
   "id": "1d358dfd-ce7b-435a-afbe-1f4ceec71c52",
   "metadata": {},
   "outputs": [],
   "source": [
    "alphabets = ['a', 'b', 'c', 'd', 'e']"
   ]
  },
  {
   "cell_type": "code",
   "execution_count": 265,
   "id": "84199850-b987-452b-843a-c8a4af76911c",
   "metadata": {},
   "outputs": [
    {
     "data": {
      "text/plain": [
       "['a', 'b', 'c', 'd', 'e']"
      ]
     },
     "execution_count": 265,
     "metadata": {},
     "output_type": "execute_result"
    }
   ],
   "source": [
    "alphabets"
   ]
  },
  {
   "cell_type": "code",
   "execution_count": 296,
   "id": "fbcd645e-8b96-4d53-b967-f2f98561a46a",
   "metadata": {},
   "outputs": [
    {
     "name": "stdout",
     "output_type": "stream",
     "text": [
      "['e', 'd', 'c', 'b', 'a']\n"
     ]
    }
   ],
   "source": [
    "alphabets.reverse()\n",
    "print(alphabets)   # as u can see the reverse method did not sort backward alphabatically rather just, it simply reverse the order of the list"
   ]
  },
  {
   "cell_type": "code",
   "execution_count": 272,
   "id": "f8c99796-acca-4a56-8d9f-f179b688ff53",
   "metadata": {},
   "outputs": [],
   "source": [
    "# whereas (reverse = true) alphabatically reversed it!"
   ]
  },
  {
   "cell_type": "markdown",
   "id": "458eb2b3-cf8c-4c6a-b4a5-be3dc569cdd1",
   "metadata": {},
   "source": [
    "#### Finding the length of the list"
   ]
  },
  {
   "cell_type": "code",
   "execution_count": 275,
   "id": "d4f96d5c-1167-492f-a52f-a5b41181c7b0",
   "metadata": {},
   "outputs": [
    {
     "data": {
      "text/plain": [
       "['a', 'b', 'c', 'd', 'e']"
      ]
     },
     "execution_count": 275,
     "metadata": {},
     "output_type": "execute_result"
    }
   ],
   "source": [
    "alphabets"
   ]
  },
  {
   "cell_type": "code",
   "execution_count": 279,
   "id": "809cab21-9617-4591-a91e-9ab9d87e2dc6",
   "metadata": {},
   "outputs": [
    {
     "data": {
      "text/plain": [
       "5"
      ]
     },
     "execution_count": 279,
     "metadata": {},
     "output_type": "execute_result"
    }
   ],
   "source": [
    "len(alphabets)  # when there is . like .sort it is method and without that it is function"
   ]
  },
  {
   "cell_type": "code",
   "execution_count": 1,
   "id": "60a75b41-a1f0-4c2f-8022-b3102fae5e67",
   "metadata": {},
   "outputs": [],
   "source": [
    "#methods are only for specific thing and datatypes whereas function is accessible to all."
   ]
  },
  {
   "cell_type": "markdown",
   "id": "13f4389b-d6c5-4a01-a51d-8c90960ede7c",
   "metadata": {},
   "source": [
    "#### Sorting exercise"
   ]
  },
  {
   "cell_type": "code",
   "execution_count": 304,
   "id": "f9839af0-eb6f-47ff-ace2-18b236914fa0",
   "metadata": {},
   "outputs": [],
   "source": [
    "dreamPlaces = ['Edinburgh',  'Scotland', 'Oxford', 'Mecca', 'Karbala'] # few contains holysites where i would love to visit one day"
   ]
  },
  {
   "cell_type": "code",
   "execution_count": 286,
   "id": "35436c13-c1a1-4f56-9fbd-471812d3c165",
   "metadata": {},
   "outputs": [
    {
     "name": "stdout",
     "output_type": "stream",
     "text": [
      "['Edinburgh', 'Scotland', 'Oxford', 'Mecca', 'Karbala']\n"
     ]
    }
   ],
   "source": [
    "print(dreamPlaces)"
   ]
  },
  {
   "cell_type": "code",
   "execution_count": 290,
   "id": "4de88289-687b-4460-b201-f094ca5b5cf1",
   "metadata": {},
   "outputs": [
    {
     "name": "stdout",
     "output_type": "stream",
     "text": [
      "['Edinburgh', 'Karbala', 'Mecca', 'Oxford', 'Scotland']\n"
     ]
    }
   ],
   "source": [
    "print(sorted(dreamPlaces))  # there is no need to always make a new varibale to store the value of sorted()"
   ]
  },
  {
   "cell_type": "code",
   "execution_count": 294,
   "id": "d4000f83-a578-4b04-80fb-7cc2f2838a3b",
   "metadata": {},
   "outputs": [
    {
     "name": "stdout",
     "output_type": "stream",
     "text": [
      "['Edinburgh', 'Scotland', 'Oxford', 'Mecca', 'Karbala']\n"
     ]
    }
   ],
   "source": [
    "print(dreamPlaces)  # just to show that the orginal list remains the same"
   ]
  },
  {
   "cell_type": "code",
   "execution_count": 306,
   "id": "554df481-ec97-413b-a119-cd3ae7de8656",
   "metadata": {},
   "outputs": [
    {
     "name": "stdout",
     "output_type": "stream",
     "text": [
      "['Karbala', 'Mecca', 'Oxford', 'Scotland', 'Edinburgh']\n"
     ]
    }
   ],
   "source": [
    "dreamPlaces.reverse()\n",
    "print(dreamPlaces)"
   ]
  },
  {
   "cell_type": "code",
   "execution_count": 308,
   "id": "4c8b0c69-9a3c-448c-87aa-060499fea7b4",
   "metadata": {},
   "outputs": [
    {
     "data": {
      "text/plain": [
       "['Karbala', 'Mecca', 'Oxford', 'Scotland', 'Edinburgh']"
      ]
     },
     "execution_count": 308,
     "metadata": {},
     "output_type": "execute_result"
    }
   ],
   "source": [
    "dreamPlaces # just to show again that list is still in its orginal form"
   ]
  },
  {
   "cell_type": "code",
   "execution_count": 310,
   "id": "c8c4b5b5-6175-48c6-8e13-1fb1856a6211",
   "metadata": {},
   "outputs": [],
   "source": [
    "# wow its not let me see again"
   ]
  },
  {
   "cell_type": "code",
   "execution_count": 312,
   "id": "ad5a996e-0211-4df6-9dc6-bbaec71bdfec",
   "metadata": {},
   "outputs": [
    {
     "name": "stdout",
     "output_type": "stream",
     "text": [
      "['Karbala', 'Mecca', 'Oxford', 'Scotland', 'Edinburgh']\n"
     ]
    }
   ],
   "source": [
    "print(dreamPlaces)"
   ]
  },
  {
   "cell_type": "code",
   "execution_count": 314,
   "id": "b474ced8-d716-487d-bace-b566dcba030c",
   "metadata": {},
   "outputs": [],
   "source": [
    "# ook so i accidently used the wrong function and change the list permantley so let me go over it again"
   ]
  },
  {
   "cell_type": "code",
   "execution_count": 316,
   "id": "2215580a-f820-44a8-8ddf-b167255fd8f9",
   "metadata": {},
   "outputs": [],
   "source": [
    "dreamPlaces = ['Edinburgh',  'Scotland', 'Oxford', 'Mecca', 'Karbala']"
   ]
  },
  {
   "cell_type": "code",
   "execution_count": 323,
   "id": "7b12d160-561d-45b4-8583-3ecbbca0dfb7",
   "metadata": {},
   "outputs": [
    {
     "name": "stdout",
     "output_type": "stream",
     "text": [
      "<list_reverseiterator object at 0x00000252F4B11570>\n"
     ]
    }
   ],
   "source": [
    "\n",
    "print(reversed(dreamPlaces))"
   ]
  },
  {
   "cell_type": "code",
   "execution_count": 325,
   "id": "0db1181a-0ec4-4192-84f8-cfb84d5352f1",
   "metadata": {},
   "outputs": [
    {
     "name": "stdout",
     "output_type": "stream",
     "text": [
      "['Karbala', 'Mecca', 'Oxford', 'Scotland', 'Edinburgh']\n"
     ]
    }
   ],
   "source": [
    "print(list(reversed(dreamPlaces)))"
   ]
  },
  {
   "cell_type": "code",
   "execution_count": 327,
   "id": "0f9b2fd5-8b89-4be9-bc27-4751c07be09b",
   "metadata": {},
   "outputs": [
    {
     "data": {
      "text/plain": [
       "['Edinburgh', 'Scotland', 'Oxford', 'Mecca', 'Karbala']"
      ]
     },
     "execution_count": 327,
     "metadata": {},
     "output_type": "execute_result"
    }
   ],
   "source": [
    "dreamPlaces # just to show again that list is still in its orginal form"
   ]
  },
  {
   "cell_type": "markdown",
   "id": "00e97406-c814-4eec-a5e4-9aa6ab9a7670",
   "metadata": {},
   "source": [
    "#### Trying sorted function again"
   ]
  },
  {
   "cell_type": "code",
   "execution_count": 2,
   "id": "eab2e31f-2cd1-4114-8586-c756b3fbbd80",
   "metadata": {},
   "outputs": [],
   "source": [
    "guns = ['ak-47','m416','glock','beretta']"
   ]
  },
  {
   "cell_type": "code",
   "execution_count": 4,
   "id": "a9ecef6f-49d8-4c0f-a69a-ada4d20322d6",
   "metadata": {},
   "outputs": [
    {
     "name": "stdout",
     "output_type": "stream",
     "text": [
      "Here is the sorted version of guns ['ak-47', 'beretta', 'glock', 'm416']\n"
     ]
    }
   ],
   "source": [
    "print(f\"Here is the sorted version of guns {sorted(guns)}\")"
   ]
  },
  {
   "cell_type": "code",
   "execution_count": 8,
   "id": "96bc095f-c12b-4124-939f-99df31e8bda7",
   "metadata": {},
   "outputs": [
    {
     "data": {
      "text/plain": [
       "['ak-47', 'm416', 'glock', 'beretta']"
      ]
     },
     "execution_count": 8,
     "metadata": {},
     "output_type": "execute_result"
    }
   ],
   "source": [
    "guns # actual list still exists"
   ]
  },
  {
   "cell_type": "code",
   "execution_count": 10,
   "id": "19527977-5d60-47bb-94ad-d8bd32f5a129",
   "metadata": {},
   "outputs": [],
   "source": [
    "guns = sorted(guns, reverse=True)"
   ]
  },
  {
   "cell_type": "code",
   "execution_count": 14,
   "id": "bc642c96-b847-426b-a494-fbd8232de904",
   "metadata": {},
   "outputs": [
    {
     "data": {
      "text/plain": [
       "['m416', 'glock', 'beretta', 'ak-47']"
      ]
     },
     "execution_count": 14,
     "metadata": {},
     "output_type": "execute_result"
    }
   ],
   "source": [
    "guns   # see this alphabatically reverse where reverse method reverse alphabatically reverse ifywim"
   ]
  },
  {
   "cell_type": "markdown",
   "id": "4858823b-f03e-4ed1-a2f9-6f2a45f30e33",
   "metadata": {},
   "source": [
    "#### Intentional Index errors"
   ]
  },
  {
   "cell_type": "code",
   "execution_count": 34,
   "id": "3392f679-b67d-4179-8373-374a204c155f",
   "metadata": {},
   "outputs": [],
   "source": [
    "cities = ['karachi', 'islamabad', 'lahore']"
   ]
  },
  {
   "cell_type": "code",
   "execution_count": 36,
   "id": "c7b39f79-6d8f-4cad-a3c4-0f683b54b7c6",
   "metadata": {},
   "outputs": [
    {
     "ename": "IndexError",
     "evalue": "list index out of range",
     "output_type": "error",
     "traceback": [
      "\u001b[1;31m---------------------------------------------------------------------------\u001b[0m",
      "\u001b[1;31mIndexError\u001b[0m                                Traceback (most recent call last)",
      "Cell \u001b[1;32mIn[36], line 1\u001b[0m\n\u001b[1;32m----> 1\u001b[0m cities[\u001b[38;5;241m3\u001b[39m]\n",
      "\u001b[1;31mIndexError\u001b[0m: list index out of range"
     ]
    }
   ],
   "source": [
    "cities[3] #0 1 2 no 3"
   ]
  },
  {
   "cell_type": "code",
   "execution_count": 38,
   "id": "a86ba411-b48d-4ebd-8487-472403ccdc0d",
   "metadata": {},
   "outputs": [],
   "source": [
    "cities.remove('karachi')"
   ]
  },
  {
   "cell_type": "code",
   "execution_count": 42,
   "id": "0bfc2ed1-14b7-4ee5-a8d0-d7fc8dca0dad",
   "metadata": {},
   "outputs": [],
   "source": [
    "cities.remove('islamabad')"
   ]
  },
  {
   "cell_type": "code",
   "execution_count": 44,
   "id": "afa31ba6-dbd1-4a6a-8377-6a1353187f8e",
   "metadata": {},
   "outputs": [],
   "source": [
    "cities.remove('lahore')"
   ]
  },
  {
   "cell_type": "code",
   "execution_count": 46,
   "id": "5994a95b-0090-474c-a36a-3af1d0720360",
   "metadata": {},
   "outputs": [],
   "source": [
    "# since now there is no element left in the list so we going to access the list and will get the index error"
   ]
  },
  {
   "cell_type": "code",
   "execution_count": 48,
   "id": "d0040340-e0c4-4b49-80fd-5158de5f872d",
   "metadata": {},
   "outputs": [
    {
     "data": {
      "text/plain": [
       "[]"
      ]
     },
     "execution_count": 48,
     "metadata": {},
     "output_type": "execute_result"
    }
   ],
   "source": [
    "cities"
   ]
  },
  {
   "cell_type": "code",
   "execution_count": 3,
   "id": "0e8183eb-95fe-4ee1-85de-533d859bfaad",
   "metadata": {},
   "outputs": [
    {
     "ename": "NameError",
     "evalue": "name 'cities' is not defined",
     "output_type": "error",
     "traceback": [
      "\u001b[1;31m---------------------------------------------------------------------------\u001b[0m",
      "\u001b[1;31mNameError\u001b[0m                                 Traceback (most recent call last)",
      "Cell \u001b[1;32mIn[3], line 1\u001b[0m\n\u001b[1;32m----> 1\u001b[0m cities[\u001b[38;5;241m0\u001b[39m]\n",
      "\u001b[1;31mNameError\u001b[0m: name 'cities' is not defined"
     ]
    }
   ],
   "source": [
    "cities[0] # here u can see that we have an empty list thus this error and it can only be corrected if the list is filled by the values"
   ]
  },
  {
   "cell_type": "markdown",
   "id": "4fda8113-60f8-4c4c-be82-4f5c24fe971f",
   "metadata": {},
   "source": [
    "### Working with lists & for Loop"
   ]
  },
  {
   "cell_type": "code",
   "execution_count": 11,
   "id": "b942d35b-4f49-4479-b909-1d0a7ce3e00b",
   "metadata": {},
   "outputs": [
    {
     "name": "stdout",
     "output_type": "stream",
     "text": [
      "alice\n",
      "david\n",
      "carolina\n"
     ]
    }
   ],
   "source": [
    "magicians = ['alice', 'david', 'carolina']\n",
    "for magician in magicians: #magicians was a list name, and we made a new list magician in which each name would get stored and get print\n",
    "    print(magician)"
   ]
  },
  {
   "cell_type": "code",
   "execution_count": 17,
   "id": "348b9d21-80cd-4eda-8d3e-03519d07b197",
   "metadata": {},
   "outputs": [
    {
     "name": "stdout",
     "output_type": "stream",
     "text": [
      "Rameel\n",
      "Asher\n",
      "Usman\n"
     ]
    }
   ],
   "source": [
    "# we can also make the variable name anything else but it is good practice to make the name singular as of the list name which is plural\n",
    "friends = ['Rameel', 'Asher', 'Usman']\n",
    "for x in friends:\n",
    "    print(x)"
   ]
  },
  {
   "cell_type": "markdown",
   "id": "3d9431d9-0a51-4757-a033-d52a9e9ad9b5",
   "metadata": {},
   "source": [
    "#### Doing more work within a for Loop"
   ]
  },
  {
   "cell_type": "code",
   "execution_count": 20,
   "id": "dc06d325-827e-4f55-ab2c-2c57930e073b",
   "metadata": {},
   "outputs": [
    {
     "name": "stdout",
     "output_type": "stream",
     "text": [
      "alice\n",
      "Alice you did a fantastic trick!!\n",
      "david\n",
      "David you did a fantastic trick!!\n",
      "carolina\n",
      "Carolina you did a fantastic trick!!\n"
     ]
    }
   ],
   "source": [
    "magicians = ['alice', 'david', 'carolina']\n",
    "for magician in magicians:\n",
    "    print(magician)\n",
    "    print(f\"{magician.title()} you did a fantastic trick!!\")"
   ]
  },
  {
   "cell_type": "code",
   "execution_count": 24,
   "id": "0de0c798-05b0-44dc-9dfd-53ff4416eb0b",
   "metadata": {},
   "outputs": [
    {
     "name": "stdout",
     "output_type": "stream",
     "text": [
      "Alice you did a fantastic trick!!\n",
      "David you did a fantastic trick!!\n",
      "Carolina you did a fantastic trick!!\n"
     ]
    }
   ],
   "source": [
    "#lets remove print(magician)\n",
    "magicians = ['alice', 'david', 'carolina']\n",
    "for magician in magicians:\n",
    "    print(f\"{magician.title()} you did a fantastic trick!!\")   # now works fine"
   ]
  },
  {
   "cell_type": "code",
   "execution_count": 26,
   "id": "b4dd2334-653b-4287-b1f6-b3b9e8b9cee5",
   "metadata": {},
   "outputs": [
    {
     "name": "stdout",
     "output_type": "stream",
     "text": [
      "['alice', 'david', 'carolina']\n"
     ]
    }
   ],
   "source": [
    "print(magicians)"
   ]
  },
  {
   "cell_type": "code",
   "execution_count": null,
   "id": "d11bbbbe-1fd9-4e63-9896-11ce856a7edc",
   "metadata": {},
   "outputs": [],
   "source": []
  }
 ],
 "metadata": {
  "kernelspec": {
   "display_name": "Python 3 (ipykernel)",
   "language": "python",
   "name": "python3"
  },
  "language_info": {
   "codemirror_mode": {
    "name": "ipython",
    "version": 3
   },
   "file_extension": ".py",
   "mimetype": "text/x-python",
   "name": "python",
   "nbconvert_exporter": "python",
   "pygments_lexer": "ipython3",
   "version": "3.12.7"
  }
 },
 "nbformat": 4,
 "nbformat_minor": 5
}
